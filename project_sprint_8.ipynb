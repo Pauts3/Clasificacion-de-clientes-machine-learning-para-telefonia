{
 "cells": [
  {
   "cell_type": "markdown",
   "id": "8dd45ff7",
   "metadata": {},
   "source": [
    "# Modelo Megaline"
   ]
  },
  {
   "cell_type": "markdown",
   "id": "11d74634",
   "metadata": {},
   "source": [
    "Prueba de modelos para analizar el comportamiento de los clientes y recomendar uno de los nuevos planes de Megaline: Smart o Ultra.\n",
    "\n",
    "Para alcanzar el objetivo propuesto por Megaline nos enfrentamos a una tarea de aprendizaje supervisado, específicamente una tarea de **clasificación binaria** al tener que encontrar entre dos planes, el mejor para los clientes. "
   ]
  },
  {
   "cell_type": "code",
   "execution_count": 1,
   "id": "ffc38cf2",
   "metadata": {},
   "outputs": [],
   "source": [
    "#Librerías utilizadas.\n",
    "\n",
    "import pandas as pd\n",
    "from sklearn.model_selection import train_test_split\n",
    "from sklearn.tree import DecisionTreeClassifier\n",
    "from sklearn.metrics import accuracy_score\n",
    "from sklearn.ensemble import RandomForestClassifier\n",
    "from sklearn.linear_model import LogisticRegression\n",
    "from sklearn.dummy import DummyClassifier"
   ]
  },
  {
   "cell_type": "code",
   "execution_count": 2,
   "id": "6610d20b",
   "metadata": {},
   "outputs": [],
   "source": [
    "df = pd.read_csv('./users_behavior.csv')"
   ]
  },
  {
   "cell_type": "code",
   "execution_count": 3,
   "id": "cf88ed06",
   "metadata": {
    "scrolled": true
   },
   "outputs": [
    {
     "data": {
      "text/html": [
       "<div>\n",
       "<style scoped>\n",
       "    .dataframe tbody tr th:only-of-type {\n",
       "        vertical-align: middle;\n",
       "    }\n",
       "\n",
       "    .dataframe tbody tr th {\n",
       "        vertical-align: top;\n",
       "    }\n",
       "\n",
       "    .dataframe thead th {\n",
       "        text-align: right;\n",
       "    }\n",
       "</style>\n",
       "<table border=\"1\" class=\"dataframe\">\n",
       "  <thead>\n",
       "    <tr style=\"text-align: right;\">\n",
       "      <th></th>\n",
       "      <th>calls</th>\n",
       "      <th>minutes</th>\n",
       "      <th>messages</th>\n",
       "      <th>mb_used</th>\n",
       "      <th>is_ultra</th>\n",
       "    </tr>\n",
       "  </thead>\n",
       "  <tbody>\n",
       "    <tr>\n",
       "      <th>0</th>\n",
       "      <td>40.0</td>\n",
       "      <td>311.90</td>\n",
       "      <td>83.0</td>\n",
       "      <td>19915.42</td>\n",
       "      <td>0</td>\n",
       "    </tr>\n",
       "    <tr>\n",
       "      <th>1</th>\n",
       "      <td>85.0</td>\n",
       "      <td>516.75</td>\n",
       "      <td>56.0</td>\n",
       "      <td>22696.96</td>\n",
       "      <td>0</td>\n",
       "    </tr>\n",
       "    <tr>\n",
       "      <th>2</th>\n",
       "      <td>77.0</td>\n",
       "      <td>467.66</td>\n",
       "      <td>86.0</td>\n",
       "      <td>21060.45</td>\n",
       "      <td>0</td>\n",
       "    </tr>\n",
       "    <tr>\n",
       "      <th>3</th>\n",
       "      <td>106.0</td>\n",
       "      <td>745.53</td>\n",
       "      <td>81.0</td>\n",
       "      <td>8437.39</td>\n",
       "      <td>1</td>\n",
       "    </tr>\n",
       "    <tr>\n",
       "      <th>4</th>\n",
       "      <td>66.0</td>\n",
       "      <td>418.74</td>\n",
       "      <td>1.0</td>\n",
       "      <td>14502.75</td>\n",
       "      <td>0</td>\n",
       "    </tr>\n",
       "  </tbody>\n",
       "</table>\n",
       "</div>"
      ],
      "text/plain": [
       "   calls  minutes  messages   mb_used  is_ultra\n",
       "0   40.0   311.90      83.0  19915.42         0\n",
       "1   85.0   516.75      56.0  22696.96         0\n",
       "2   77.0   467.66      86.0  21060.45         0\n",
       "3  106.0   745.53      81.0   8437.39         1\n",
       "4   66.0   418.74       1.0  14502.75         0"
      ]
     },
     "execution_count": 3,
     "metadata": {},
     "output_type": "execute_result"
    }
   ],
   "source": [
    "df.head()"
   ]
  },
  {
   "cell_type": "code",
   "execution_count": 4,
   "id": "4375cf92",
   "metadata": {},
   "outputs": [
    {
     "name": "stdout",
     "output_type": "stream",
     "text": [
      "<class 'pandas.core.frame.DataFrame'>\n",
      "RangeIndex: 3214 entries, 0 to 3213\n",
      "Data columns (total 5 columns):\n",
      " #   Column    Non-Null Count  Dtype  \n",
      "---  ------    --------------  -----  \n",
      " 0   calls     3214 non-null   float64\n",
      " 1   minutes   3214 non-null   float64\n",
      " 2   messages  3214 non-null   float64\n",
      " 3   mb_used   3214 non-null   float64\n",
      " 4   is_ultra  3214 non-null   int64  \n",
      "dtypes: float64(4), int64(1)\n",
      "memory usage: 125.7 KB\n"
     ]
    }
   ],
   "source": [
    "df.info()"
   ]
  },
  {
   "cell_type": "code",
   "execution_count": 5,
   "id": "97f24b87",
   "metadata": {},
   "outputs": [
    {
     "name": "stdout",
     "output_type": "stream",
     "text": [
      "(3214, 5)\n"
     ]
    }
   ],
   "source": [
    "print(df.shape)"
   ]
  },
  {
   "cell_type": "markdown",
   "id": "b765c6ff",
   "metadata": {},
   "source": [
    "### Observaciones a partir del data frame:\n",
    "\n",
    "En este dataframe contamos con cinco características y 3214 observaciones. El objetivo a identificar con el modelo de Machine learning es **Is Ultra**.\n",
    "\n",
    "Además, podemos observar que no hay datos ausentes y todas las columnas se encuentran configuradas en el tipo adecuado. \n",
    "\n",
    "Al no existir el conjunto de prueba, todo el dataset se dividirá en una proporción de 3:1:1 = entrenamiento(60 %), validación (20 %) y prueba (20 %)."
   ]
  },
  {
   "cell_type": "markdown",
   "id": "3edd45ae",
   "metadata": {},
   "source": [
    "## Segmentación de datos"
   ]
  },
  {
   "cell_type": "code",
   "execution_count": 6,
   "id": "c7d67b0f",
   "metadata": {},
   "outputs": [],
   "source": [
    "df_train, df_test = train_test_split(df, test_size = 0.4, train_size = 0.6, random_state = 333)\n"
   ]
  },
  {
   "cell_type": "code",
   "execution_count": 7,
   "id": "86a997ff",
   "metadata": {},
   "outputs": [],
   "source": [
    "df_test, df_valid = train_test_split(df_test, test_size = 0.5, train_size = 0.5, random_state = 333)"
   ]
  },
  {
   "cell_type": "code",
   "execution_count": 8,
   "id": "10438a7d",
   "metadata": {},
   "outputs": [],
   "source": [
    "#Datos para el entrenamiento.\n",
    "train_features = df_train.drop(['is_ultra'], axis=1)\n",
    "train_target = df_train['is_ultra']\n",
    "\n",
    "#Datos para el test.\n",
    "test_features = df_test.drop(['is_ultra'], axis=1)\n",
    "test_target = df_test['is_ultra']\n",
    "\n",
    "#Datos para la validación.\n",
    "valid_features = df_valid.drop(['is_ultra'], axis=1)\n",
    "valid_target = df_valid['is_ultra']"
   ]
  },
  {
   "cell_type": "code",
   "execution_count": 9,
   "id": "dd94259b",
   "metadata": {
    "scrolled": false
   },
   "outputs": [
    {
     "name": "stdout",
     "output_type": "stream",
     "text": [
      "(1928, 4)\n",
      "(1928,)\n",
      "\n",
      "(643, 4)\n",
      "(643,)\n",
      "\n",
      "(643, 4)\n",
      "(643,)\n"
     ]
    }
   ],
   "source": [
    "print(train_features.shape)\n",
    "print(train_target.shape)\n",
    "print()\n",
    "print(test_features.shape)\n",
    "print(test_target.shape)\n",
    "print()\n",
    "print(valid_features.shape)\n",
    "print(valid_target.shape)"
   ]
  },
  {
   "cell_type": "markdown",
   "id": "58ad91ae",
   "metadata": {},
   "source": [
    "## Prueba 1: \n",
    "## Árbol de dicisión"
   ]
  },
  {
   "cell_type": "code",
   "execution_count": 10,
   "id": "14aef51a",
   "metadata": {
    "scrolled": true
   },
   "outputs": [
    {
     "name": "stdout",
     "output_type": "stream",
     "text": [
      "\n",
      "The best model found has a depth of 5 with an accuracy of 0.7900466562986003\n"
     ]
    }
   ],
   "source": [
    "#Iteración para encontrar qué nivel de ramificación hace más exacto el modelo. \n",
    "\n",
    "best_acc_dt = 0\n",
    "\n",
    "best_depth_dt = 0\n",
    "\n",
    "for depth in range(1, 11):\n",
    "    model_dt = DecisionTreeClassifier(random_state = 333, max_depth = depth)\n",
    "    model_dt.fit(train_features, train_target)\n",
    "    valid_predictions = model_dt.predict(valid_features)\n",
    "    acc = accuracy_score(valid_target, valid_predictions)\n",
    "    if acc > best_acc_dt:\n",
    "        best_acc_dt = acc\n",
    "        best_depth_dt = depth\n",
    "\n",
    "print()\n",
    "print(f'The best model found has a depth of {best_depth_dt} with an accuracy of {best_acc_dt}')"
   ]
  },
  {
   "cell_type": "code",
   "execution_count": 11,
   "id": "4d5d345e",
   "metadata": {},
   "outputs": [
    {
     "name": "stdout",
     "output_type": "stream",
     "text": [
      "0.7122861586314152\n"
     ]
    }
   ],
   "source": [
    "#Prueba para ver que tanta exactitud posee el modelo sin limitar las ramificaciones. \n",
    "\n",
    "model_dt = DecisionTreeClassifier(random_state = 333)\n",
    "    \n",
    "model_dt.fit(train_features, train_target)\n",
    "\n",
    "valid_predictions = model_dt.predict(valid_features)\n",
    "\n",
    "print(accuracy_score(valid_target, valid_predictions))"
   ]
  },
  {
   "cell_type": "code",
   "execution_count": 12,
   "id": "292e65b1",
   "metadata": {
    "scrolled": true
   },
   "outputs": [
    {
     "name": "stdout",
     "output_type": "stream",
     "text": [
      "\n",
      "The best model found has a number of splits of 9 with an accuracy of 0.7356143079315708\n"
     ]
    }
   ],
   "source": [
    "#Prueba con hiperparámetro: min_samples_split.\n",
    "\n",
    "best_acc_dt_split = 0\n",
    "\n",
    "best_split_dt = 0\n",
    "\n",
    "for split in range(2, 11):\n",
    "    model_dt = DecisionTreeClassifier(random_state = 333, min_samples_split = split)\n",
    "    model_dt.fit(train_features, train_target)\n",
    "    valid_predictions = model_dt.predict(valid_features)\n",
    "    acc_split = accuracy_score(valid_target, valid_predictions)\n",
    "    if acc_split > best_acc_dt_split:\n",
    "        best_acc_dt_split = acc_split\n",
    "        best_split_dt = split\n",
    "        \n",
    "print()\n",
    "print(f'The best model found has a number of splits of {best_split_dt} with an accuracy of {best_acc_dt_split}')"
   ]
  },
  {
   "cell_type": "markdown",
   "id": "ac1472ad",
   "metadata": {},
   "source": [
    "Al ser una exactitud menor que la que se logra con el parámetro de número de ramificaciones, se ignorará el parámetro de 'split' durante la prueba del modelo final."
   ]
  },
  {
   "cell_type": "code",
   "execution_count": 13,
   "id": "a270f0a2",
   "metadata": {
    "scrolled": false
   },
   "outputs": [
    {
     "name": "stdout",
     "output_type": "stream",
     "text": [
      "Accuracy comparison: Decision Tree\n",
      "\n",
      "Training set: 0.8236514522821576\n",
      "Test set: 0.7993779160186625\n"
     ]
    }
   ],
   "source": [
    "#Prueba de exactitud con el modelo elegido en su versión test y entrenamiento:\n",
    "\n",
    "model_dt = DecisionTreeClassifier(random_state = 333, max_depth = 5)\n",
    "\n",
    "model_dt.fit(train_features, train_target)\n",
    "\n",
    "train_predictions = model_dt.predict(train_features)\n",
    "\n",
    "test_predictions = model_dt.predict(test_features)\n",
    "\n",
    "print('Accuracy comparison: Decision Tree')\n",
    "print()\n",
    "print('Training set:', accuracy_score(train_target, train_predictions))\n",
    "print('Test set:', accuracy_score(test_target, test_predictions))"
   ]
  },
  {
   "cell_type": "markdown",
   "id": "7a0849c6",
   "metadata": {},
   "source": [
    "Según la prueba de exactitud, nos encontramos con un modelo un tanto sobreajustado, al tener un mejor resultado durante el entrenamiento y un resultado menor durante la prueba. "
   ]
  },
  {
   "cell_type": "code",
   "execution_count": 14,
   "id": "1cc20863",
   "metadata": {
    "scrolled": true
   },
   "outputs": [
    {
     "name": "stdout",
     "output_type": "stream",
     "text": [
      "Accuracy Decision Tree\n",
      "\n",
      "The accuracy of the Decision tree model in its validation set is: 0.7900466562986003\n"
     ]
    }
   ],
   "source": [
    "#Exactitud del modelo Árbol de decisión.\n",
    "\n",
    "valid_predictions = model_dt.predict(valid_features)\n",
    "\n",
    "acc_valid_dt = accuracy_score(valid_target, valid_predictions)\n",
    "\n",
    "print('Accuracy Decision Tree')\n",
    "print()\n",
    "print('The accuracy of the Decision tree model in its validation set is:', acc_valid_dt)"
   ]
  },
  {
   "cell_type": "markdown",
   "id": "b0664802",
   "metadata": {},
   "source": [
    "#### Observaciones: \n",
    "\n",
    "El modelo de árbol de decisión pasa el umbral mínimo de exactitud del 0.75 por tan solo 0.04 puntos.  "
   ]
  },
  {
   "cell_type": "markdown",
   "id": "519c208b",
   "metadata": {},
   "source": [
    "## Prueba 2: \n",
    "## Bosque aleatorio"
   ]
  },
  {
   "cell_type": "code",
   "execution_count": 15,
   "id": "8dfe8389",
   "metadata": {},
   "outputs": [
    {
     "name": "stdout",
     "output_type": "stream",
     "text": [
      "The accuracy of the best model in the validation set(n_estimators = 38): 0.8087091757387247\n"
     ]
    }
   ],
   "source": [
    "#Prueba para elegir el mejor hiperparámetro para el modelo de Random Forest.\n",
    "\n",
    "best_score = 0\n",
    "\n",
    "best_est = 0\n",
    "\n",
    "for est in range(1, 50): \n",
    "    model_rf = RandomForestClassifier(random_state = 333, n_estimators=est) \n",
    "    model_rf.fit(train_features, train_target) \n",
    "    score = model_rf.score(valid_features, valid_target)\n",
    "    if score > best_score:\n",
    "        best_score = score\n",
    "        best_est = est\n",
    "\n",
    "print(\"The accuracy of the best model in the validation set(n_estimators = {}): {}\".format(best_est, best_score))"
   ]
  },
  {
   "cell_type": "code",
   "execution_count": 16,
   "id": "5c84c230",
   "metadata": {
    "scrolled": false
   },
   "outputs": [
    {
     "name": "stdout",
     "output_type": "stream",
     "text": [
      "Accuracy comparison: Random Forest\n",
      "\n",
      "Training set: 0.9968879668049793\n",
      "Test set: 0.7853810264385692\n"
     ]
    }
   ],
   "source": [
    "#Modelo con los hiperparámetros seleccionados.\n",
    "\n",
    "model_rf = RandomForestClassifier(random_state = 333, n_estimators = 38) \n",
    "\n",
    "model_rf.fit(train_features, train_target) \n",
    "\n",
    "acc_train_rf = model_rf.score(train_features, train_target)\n",
    "\n",
    "acc_test_rf = model_rf.score(test_features, test_target)\n",
    "\n",
    "print('Accuracy comparison: Random Forest')\n",
    "print()\n",
    "print('Training set:', acc_train_rf)\n",
    "print('Test set:', acc_test_rf)"
   ]
  },
  {
   "cell_type": "markdown",
   "id": "8479d2d1",
   "metadata": {},
   "source": [
    "#### Observaciones: \n",
    "\n",
    "Se puede observar que la exactitud del modelo es casi perfecta durante el entrenamiento, sin embargo durante el test baja al menos 0.21 puntos. "
   ]
  },
  {
   "cell_type": "code",
   "execution_count": 17,
   "id": "f01c8cfc",
   "metadata": {},
   "outputs": [
    {
     "name": "stdout",
     "output_type": "stream",
     "text": [
      "The accuracy of the Random forest model in its validation set is: 0.8087091757387247\n"
     ]
    }
   ],
   "source": [
    "#Exactitud del modelo Bosque aleatorio.\n",
    "\n",
    "acc_valid_rf = model_rf.score(valid_features, valid_target)\n",
    "\n",
    "print('The accuracy of the Random forest model in its validation set is:', acc_valid_rf)"
   ]
  },
  {
   "cell_type": "markdown",
   "id": "a91c03c5",
   "metadata": {},
   "source": [
    "#### Observaciones: \n",
    "\n",
    "Al validar la exactitud del modelo de Bosque aleatorio podemos ver que este supera el umbral requerido en al menos 0.05 puntos, siendo el mejor modelo hasta ahora. "
   ]
  },
  {
   "cell_type": "markdown",
   "id": "1e0edd41",
   "metadata": {},
   "source": [
    "## Prueba 3: \n",
    "## Regresión logística"
   ]
  },
  {
   "cell_type": "code",
   "execution_count": 18,
   "id": "5497df51",
   "metadata": {
    "scrolled": false
   },
   "outputs": [
    {
     "name": "stdout",
     "output_type": "stream",
     "text": [
      "Accuracy comparison: Logistic Regression\n",
      "\n",
      "Training set: 0.7090248962655602\n",
      "Test set: 0.6547433903576982\n"
     ]
    }
   ],
   "source": [
    "#Implementación del modelo de Regresión logística.\n",
    "\n",
    "model_lr = LogisticRegression(random_state = 333, solver = 'liblinear')\n",
    "\n",
    "model_lr.fit(train_features, train_target)\n",
    "\n",
    "score_train = model_lr.score(train_features, train_target) \n",
    "\n",
    "score_test = model_lr.score(test_features, test_target) \n",
    "\n",
    "print('Accuracy comparison: Logistic Regression')\n",
    "print()\n",
    "print('Training set:', score_train)\n",
    "print('Test set:', score_test)"
   ]
  },
  {
   "cell_type": "code",
   "execution_count": 19,
   "id": "cd09cad9",
   "metadata": {},
   "outputs": [
    {
     "name": "stdout",
     "output_type": "stream",
     "text": [
      "The accuracy of the Logistic regression model in its validation set is: 0.6967340590979783\n"
     ]
    }
   ],
   "source": [
    "#Exactitud del modelo Regresión logística.\n",
    "\n",
    "acc_valid_lr = model_lr.score(valid_features, valid_target)\n",
    "\n",
    "print('The accuracy of the Logistic regression model in its validation set is:', acc_valid_lr)"
   ]
  },
  {
   "cell_type": "markdown",
   "id": "dc9ff0c2",
   "metadata": {},
   "source": [
    "#### Observaciones: \n",
    "\n",
    "El modelo elaborado con Regresión logística obtuvo los peores resultados de exactitud, donde ni siquiera la prueba durante el entrenamiento superó el umbral requerido de 0.75. "
   ]
  },
  {
   "cell_type": "markdown",
   "id": "de186952",
   "metadata": {},
   "source": [
    "## Comparación entre modelos"
   ]
  },
  {
   "cell_type": "code",
   "execution_count": 20,
   "id": "96a9384c",
   "metadata": {
    "scrolled": true
   },
   "outputs": [
    {
     "name": "stdout",
     "output_type": "stream",
     "text": [
      "Decision tree model accuracy: 0.79\n",
      "Random forest model accuracy: 0.809\n",
      "Logistic regression model accuracy: 0.697\n"
     ]
    }
   ],
   "source": [
    "print('Decision tree model accuracy:', acc_valid_dt.round(3))\n",
    "print('Random forest model accuracy:', acc_valid_rf.round(3))\n",
    "print('Logistic regression model accuracy:', acc_valid_lr.round(3))"
   ]
  },
  {
   "cell_type": "markdown",
   "id": "ecba102d",
   "metadata": {},
   "source": [
    "Comparando los números podemos determinar que el mejor modelo, en cuanto a exactitud, es el de Bosque aleatorio."
   ]
  },
  {
   "cell_type": "markdown",
   "id": "a46a5ffb",
   "metadata": {},
   "source": [
    "## Prueba de cordura en el modelo seleccionado\n",
    "\n",
    "Para hacer la prueba de cordura al modelo para buscar problemas de clasificación necesitamos comparar sus predicciones con posibilidad aleatoria, esto se hará por medio de un Dummy Classifier que ignore las caracteríticas del modelo y fije un valor predeterminado a todos los usuarios en la columna 'Is Ultra'."
   ]
  },
  {
   "cell_type": "code",
   "execution_count": 21,
   "id": "785b7314",
   "metadata": {
    "scrolled": true
   },
   "outputs": [
    {
     "name": "stdout",
     "output_type": "stream",
     "text": [
      "Users that have an Ultra plan: 985\n",
      "Users that does not have an Ultra plan: 2229\n"
     ]
    }
   ],
   "source": [
    "ultra_users = df[df['is_ultra'] == 1]\n",
    "\n",
    "non_ultra_users = df[df['is_ultra'] == 0]\n",
    "\n",
    "print('Users that have an Ultra plan:', ultra_users['is_ultra'].count())\n",
    "print('Users that does not have an Ultra plan:', non_ultra_users['is_ultra'].count())"
   ]
  },
  {
   "cell_type": "markdown",
   "id": "bfa91492",
   "metadata": {},
   "source": [
    "Estas cantidades nos permiten seleccionar un mejor parámetro para hacer un Dummy Classifier y así lograr la prueba de cordura. \n",
    "\n",
    "En este caso, los parámetros 'stratified' o 'most frequent' pueden ser los adecuados cuando nos enfrentamos a una clasificación más dominante o un resultado más abundante en los datos, como lo son los usuarios que no poseen un plan Ultra."
   ]
  },
  {
   "cell_type": "code",
   "execution_count": 22,
   "id": "dde08925",
   "metadata": {},
   "outputs": [
    {
     "name": "stdout",
     "output_type": "stream",
     "text": [
      "0.6936236391912908\n"
     ]
    }
   ],
   "source": [
    "#Ejecución del Dummy Classifier para hacer una prueba de cordura. \n",
    "\n",
    "dummy_clf = DummyClassifier(random_state = 333, strategy = 'most_frequent')\n",
    "\n",
    "dummy_clf.fit(train_features, train_target)\n",
    "\n",
    "acc_dummy_clf = dummy_clf.score(valid_features, valid_target)\n",
    "\n",
    "print(acc_dummy_clf)"
   ]
  },
  {
   "cell_type": "markdown",
   "id": "1b9a6195",
   "metadata": {},
   "source": [
    "#### Observaciones:\n",
    "\n",
    "Esta ejecución del Dummy Classifier logró que todos los resultados de la columna 'Is Ultra' fueran igual a 0, que es el dato dominante, tras ello se hace una prueba de exactitud que determinó que este modelo logra el resultado correcto el 69 % de las veces. "
   ]
  },
  {
   "cell_type": "code",
   "execution_count": 23,
   "id": "a035ab9a",
   "metadata": {},
   "outputs": [
    {
     "name": "stdout",
     "output_type": "stream",
     "text": [
      "Accuracy Most Frequent Class Dummy Classifier: 0.6936236391912908\n",
      "\n",
      "Accuracy Random Forest: 0.8087091757387247\n"
     ]
    }
   ],
   "source": [
    "#Comparación de exactitud entre el modelo Random Forest y Dummy Classifier.\n",
    "\n",
    "print(\"Accuracy Most Frequent Class Dummy Classifier:\", acc_dummy_clf)\n",
    "print()\n",
    "print(\"Accuracy Random Forest:\", acc_valid_rf)"
   ]
  },
  {
   "cell_type": "markdown",
   "id": "34dc4684",
   "metadata": {},
   "source": [
    "## Conclusiones\n",
    "\n",
    "1. El mejor modelo para lograr superar el umbral de exactitud de 0.75 es el Bosque aleatorio con el hiperparámetro de n_estimators = 38.\n",
    "\n",
    "2. El segundo mejor modelo es el Árbol de decisión, que también pasa el umbral requerido.\n",
    "\n",
    "3. El único modelo que no supera el umbral y se descarta es el de Regresión logística.\n",
    "\n",
    "4. Se hizo una prueba de cordura con un modelo tipo Dummy Classifier, que ignora parámetros y da una respuesta a la columna objetivo con el dato dominante. \n",
    "\n",
    "5. Tras efectuar la prueba y comparar la exactitud del modelo de Bosque aleatorio y el Dummy Classifier se puede determinar que el modelo elaborado supera la exactitud de la prueba con al menos 0.11 puntos, convirtiéndose en la mejor alternativa para Megaline. "
   ]
  }
 ],
 "metadata": {
  "kernelspec": {
   "display_name": "Python 3 (ipykernel)",
   "language": "python",
   "name": "python3"
  },
  "language_info": {
   "codemirror_mode": {
    "name": "ipython",
    "version": 3
   },
   "file_extension": ".py",
   "mimetype": "text/x-python",
   "name": "python",
   "nbconvert_exporter": "python",
   "pygments_lexer": "ipython3",
   "version": "3.11.5"
  }
 },
 "nbformat": 4,
 "nbformat_minor": 5
}
